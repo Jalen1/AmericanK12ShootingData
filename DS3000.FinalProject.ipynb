{
 "cells": [
  {
   "cell_type": "markdown",
   "id": "a2fa8848",
   "metadata": {},
   "source": [
    "# DS 3000 Project: School Shootings\n",
    "## Group Members: Evelyn Lu, Zonghao Han, Lam Truong,  Jalen Wu\n"
   ]
  },
  {
   "cell_type": "code",
   "execution_count": 153,
   "id": "a998b9c6",
   "metadata": {},
   "outputs": [],
   "source": [
    "# To import the necessary libraries for our project.\n",
    "import pandas as pd\n",
    "import numpy as np\n",
    "import scipy.stats as stats\n",
    "\n",
    "from sklearn.tree import DecisionTreeClassifier\n",
    "from sklearn.tree import DecisionTreeRegressor\n",
    "\n",
    "from sklearn.neighbors import KNeighborsClassifier\n",
    "from sklearn.linear_model import LinearRegression\n",
    "\n",
    "from sklearn.ensemble import RandomForestRegressor\n",
    "from sklearn.ensemble import RandomForestClassifier\n",
    "\n",
    "from sklearn.metrics import mean_squared_error\n",
    "from sklearn.model_selection import train_test_split\n",
    "from sklearn.metrics import classification_report\n",
    "from sklearn import preprocessing\n",
    "\n",
    "from sklearn import tree\n",
    "import matplotlib.pyplot as plt\n",
    "import seaborn as sns\n",
    "sns.set_style('darkgrid')"
   ]
  },
  {
   "cell_type": "code",
   "execution_count": 154,
   "id": "bb54f14d",
   "metadata": {},
   "outputs": [
    {
     "name": "stdout",
     "output_type": "stream",
     "text": [
      "<class 'pandas.core.frame.DataFrame'>\n",
      "RangeIndex: 2159 entries, 0 to 2158\n",
      "Data columns (total 37 columns):\n",
      " #   Column                Non-Null Count  Dtype  \n",
      "---  ------                --------------  -----  \n",
      " 0   Incident_ID           2159 non-null   object \n",
      " 1   Month                 2159 non-null   int64  \n",
      " 2   Day                   2159 non-null   int64  \n",
      " 3   Year                  2159 non-null   int64  \n",
      " 4   Date                  2159 non-null   object \n",
      " 5   School                2159 non-null   object \n",
      " 6   Victims_Killed        2159 non-null   int64  \n",
      " 7   Victims_Wounded       2159 non-null   int64  \n",
      " 8   Number_Victims        2159 non-null   int64  \n",
      " 9   Shooter_Killed        2159 non-null   int64  \n",
      " 10  Source                2159 non-null   object \n",
      " 11  Number_News           786 non-null    float64\n",
      " 12  Media_Attention       833 non-null    object \n",
      " 13  Reliability           2159 non-null   int64  \n",
      " 14  Quarter               2148 non-null   object \n",
      " 15  City                  2159 non-null   object \n",
      " 16  State                 2159 non-null   object \n",
      " 17  School_Level          2135 non-null   object \n",
      " 18  Location              2156 non-null   object \n",
      " 19  Location_Type         2154 non-null   object \n",
      " 20  During_School         2136 non-null   object \n",
      " 21  Time_Period           1993 non-null   object \n",
      " 22  First_Shot            1682 non-null   object \n",
      " 23  Duration_min          1981 non-null   float64\n",
      " 24  Summary               2159 non-null   object \n",
      " 25  Narrative             2156 non-null   object \n",
      " 26  Situation             1968 non-null   object \n",
      " 27  Targets               1829 non-null   object \n",
      " 28  Accomplice            1859 non-null   object \n",
      " 29  Accomplice_Narrative  413 non-null    object \n",
      " 30  Hostages              2145 non-null   object \n",
      " 31  Barricade             2145 non-null   object \n",
      " 32  Officer_Involved      2151 non-null   object \n",
      " 33  Bullied               1843 non-null   object \n",
      " 34  Domestic_Violence     2000 non-null   object \n",
      " 35  Gang_Related          1669 non-null   object \n",
      " 36  Active_Shooter_FBI    1190 non-null   object \n",
      "dtypes: float64(2), int64(8), object(27)\n",
      "memory usage: 624.2+ KB\n"
     ]
    }
   ],
   "source": [
    "# To load the dataframe\n",
    "school_shooting_df = pd.read_csv('Public v3.1 K-12 School Shooting Database 10 16 2022.csv')\n",
    "school_shooting_df.info()"
   ]
  },
  {
   "cell_type": "code",
   "execution_count": 155,
   "id": "838af58c",
   "metadata": {},
   "outputs": [
    {
     "name": "stdout",
     "output_type": "stream",
     "text": [
      "There are 2159 rows and 37 columns.\n"
     ]
    }
   ],
   "source": [
    "print('There are {} rows and {} columns.'.format(school_shooting_df.shape[0], school_shooting_df.shape[1]))"
   ]
  },
  {
   "cell_type": "code",
   "execution_count": 156,
   "id": "4bc11441",
   "metadata": {},
   "outputs": [
    {
     "data": {
      "text/html": [
       "<div>\n",
       "<style scoped>\n",
       "    .dataframe tbody tr th:only-of-type {\n",
       "        vertical-align: middle;\n",
       "    }\n",
       "\n",
       "    .dataframe tbody tr th {\n",
       "        vertical-align: top;\n",
       "    }\n",
       "\n",
       "    .dataframe thead th {\n",
       "        text-align: right;\n",
       "    }\n",
       "</style>\n",
       "<table border=\"1\" class=\"dataframe\">\n",
       "  <thead>\n",
       "    <tr style=\"text-align: right;\">\n",
       "      <th></th>\n",
       "      <th>Victims_Killed</th>\n",
       "      <th>Victims_Wounded</th>\n",
       "      <th>Number_Victims</th>\n",
       "      <th>Date</th>\n",
       "      <th>Shooter_Killed</th>\n",
       "      <th>City</th>\n",
       "      <th>State</th>\n",
       "      <th>School_Level</th>\n",
       "    </tr>\n",
       "  </thead>\n",
       "  <tbody>\n",
       "    <tr>\n",
       "      <th>0</th>\n",
       "      <td>0</td>\n",
       "      <td>0</td>\n",
       "      <td>0</td>\n",
       "      <td>10/14/2022</td>\n",
       "      <td>0</td>\n",
       "      <td>Abbeville</td>\n",
       "      <td>LA</td>\n",
       "      <td>Middle</td>\n",
       "    </tr>\n",
       "    <tr>\n",
       "      <th>1</th>\n",
       "      <td>0</td>\n",
       "      <td>1</td>\n",
       "      <td>1</td>\n",
       "      <td>10/14/2022</td>\n",
       "      <td>0</td>\n",
       "      <td>Greensboro</td>\n",
       "      <td>NC</td>\n",
       "      <td>High</td>\n",
       "    </tr>\n",
       "    <tr>\n",
       "      <th>2</th>\n",
       "      <td>1</td>\n",
       "      <td>1</td>\n",
       "      <td>2</td>\n",
       "      <td>10/14/2022</td>\n",
       "      <td>0</td>\n",
       "      <td>Richmond</td>\n",
       "      <td>VA</td>\n",
       "      <td>Elementary</td>\n",
       "    </tr>\n",
       "    <tr>\n",
       "      <th>3</th>\n",
       "      <td>0</td>\n",
       "      <td>0</td>\n",
       "      <td>0</td>\n",
       "      <td>10/14/2022</td>\n",
       "      <td>1</td>\n",
       "      <td>Bogalusa</td>\n",
       "      <td>LA</td>\n",
       "      <td>High</td>\n",
       "    </tr>\n",
       "    <tr>\n",
       "      <th>4</th>\n",
       "      <td>0</td>\n",
       "      <td>0</td>\n",
       "      <td>0</td>\n",
       "      <td>10/14/2022</td>\n",
       "      <td>0</td>\n",
       "      <td>Murfreesboro</td>\n",
       "      <td>TN</td>\n",
       "      <td>High</td>\n",
       "    </tr>\n",
       "  </tbody>\n",
       "</table>\n",
       "</div>"
      ],
      "text/plain": [
       "   Victims_Killed  Victims_Wounded  Number_Victims        Date  \\\n",
       "0               0                0               0  10/14/2022   \n",
       "1               0                1               1  10/14/2022   \n",
       "2               1                1               2  10/14/2022   \n",
       "3               0                0               0  10/14/2022   \n",
       "4               0                0               0  10/14/2022   \n",
       "\n",
       "   Shooter_Killed          City State School_Level  \n",
       "0               0     Abbeville    LA       Middle  \n",
       "1               0    Greensboro    NC         High  \n",
       "2               0      Richmond    VA   Elementary  \n",
       "3               1      Bogalusa    LA         High  \n",
       "4               0  Murfreesboro    TN         High  "
      ]
     },
     "execution_count": 156,
     "metadata": {},
     "output_type": "execute_result"
    }
   ],
   "source": [
    "# To extract only the columns that are relevant to us.\n",
    "# victim killed, victim wounder, number victim, Date, shooter_killed, City, State, School_level, Situation. \n",
    "school_shooting_df = school_shooting_df.loc[:,['Victims_Killed', 'Victims_Wounded', 'Number_Victims', 'Date', 'Shooter_Killed',\n",
    "                         'City', 'State', 'School_Level']]\n",
    "school_shooting_df.head()"
   ]
  },
  {
   "cell_type": "code",
   "execution_count": 157,
   "id": "dce03862",
   "metadata": {},
   "outputs": [
    {
     "name": "stdout",
     "output_type": "stream",
     "text": [
      "<class 'pandas.core.frame.DataFrame'>\n",
      "RangeIndex: 2159 entries, 0 to 2158\n",
      "Data columns (total 8 columns):\n",
      " #   Column           Non-Null Count  Dtype \n",
      "---  ------           --------------  ----- \n",
      " 0   Victims_Killed   2159 non-null   int64 \n",
      " 1   Victims_Wounded  2159 non-null   int64 \n",
      " 2   Number_Victims   2159 non-null   int64 \n",
      " 3   Date             2159 non-null   object\n",
      " 4   Shooter_Killed   2159 non-null   int64 \n",
      " 5   City             2159 non-null   object\n",
      " 6   State            2159 non-null   object\n",
      " 7   School_Level     2135 non-null   object\n",
      "dtypes: int64(4), object(4)\n",
      "memory usage: 135.1+ KB\n"
     ]
    }
   ],
   "source": [
    "# To verify that the columns were selected and that the data was mutated.\n",
    "school_shooting_df.info()"
   ]
  },
  {
   "cell_type": "code",
   "execution_count": 158,
   "id": "4ca5e793",
   "metadata": {},
   "outputs": [
    {
     "data": {
      "text/plain": [
       "Victims_Killed      0\n",
       "Victims_Wounded     0\n",
       "Number_Victims      0\n",
       "Date                0\n",
       "Shooter_Killed      0\n",
       "City                0\n",
       "State               0\n",
       "School_Level       24\n",
       "dtype: int64"
      ]
     },
     "execution_count": 158,
     "metadata": {},
     "output_type": "execute_result"
    }
   ],
   "source": [
    "#find all the null value\n",
    "school_shooting_df.isnull().sum()"
   ]
  },
  {
   "cell_type": "code",
   "execution_count": 159,
   "id": "356c2ab7",
   "metadata": {},
   "outputs": [
    {
     "name": "stdout",
     "output_type": "stream",
     "text": [
      "<class 'pandas.core.frame.DataFrame'>\n",
      "Int64Index: 2135 entries, 0 to 2158\n",
      "Data columns (total 8 columns):\n",
      " #   Column           Non-Null Count  Dtype \n",
      "---  ------           --------------  ----- \n",
      " 0   Victims_Killed   2135 non-null   int64 \n",
      " 1   Victims_Wounded  2135 non-null   int64 \n",
      " 2   Number_Victims   2135 non-null   int64 \n",
      " 3   Date             2135 non-null   object\n",
      " 4   Shooter_Killed   2135 non-null   int64 \n",
      " 5   City             2135 non-null   object\n",
      " 6   State            2135 non-null   object\n",
      " 7   School_Level     2135 non-null   object\n",
      "dtypes: int64(4), object(4)\n",
      "memory usage: 150.1+ KB\n"
     ]
    }
   ],
   "source": [
    "# To drop the NaN values that are present in our dataframe.\n",
    "school_shooting_df = school_shooting_df.dropna(subset = ['School_Level'])\n",
    "school_shooting_df.info()"
   ]
  },
  {
   "cell_type": "markdown",
   "id": "2ef2150d",
   "metadata": {},
   "source": [
    "Some of the column are not in suitable types. Thus, we are changing the type of column city to String, State to String, School_Level to String and Date to datetime. "
   ]
  },
  {
   "cell_type": "code",
   "execution_count": 160,
   "id": "3b049a2a",
   "metadata": {},
   "outputs": [],
   "source": [
    "# To modify the Data types for each column in a way to more accurately represent our data.\n",
    "school_shooting_df['City'] = school_shooting_df['City'].astype('string')\n",
    "school_shooting_df['State'] = school_shooting_df['State'].astype('string')\n",
    "school_shooting_df['School_Level'] = school_shooting_df['School_Level'].astype('string')\n",
    "# school_shooting_df['Situation'] = school_shooting_df['Situation'].astype('string')\n",
    "school_shooting_df['Date']= pd.to_datetime(school_shooting_df['Date'])"
   ]
  },
  {
   "cell_type": "code",
   "execution_count": 161,
   "id": "d0374f8b",
   "metadata": {},
   "outputs": [
    {
     "name": "stdout",
     "output_type": "stream",
     "text": [
      "<class 'pandas.core.frame.DataFrame'>\n",
      "Int64Index: 2135 entries, 0 to 2158\n",
      "Data columns (total 8 columns):\n",
      " #   Column           Non-Null Count  Dtype         \n",
      "---  ------           --------------  -----         \n",
      " 0   Victims_Killed   2135 non-null   int64         \n",
      " 1   Victims_Wounded  2135 non-null   int64         \n",
      " 2   Number_Victims   2135 non-null   int64         \n",
      " 3   Date             2135 non-null   datetime64[ns]\n",
      " 4   Shooter_Killed   2135 non-null   int64         \n",
      " 5   City             2135 non-null   string        \n",
      " 6   State            2135 non-null   string        \n",
      " 7   School_Level     2135 non-null   string        \n",
      "dtypes: datetime64[ns](1), int64(4), string(3)\n",
      "memory usage: 150.1 KB\n"
     ]
    }
   ],
   "source": [
    "# To verify that the Dtypes were mutated.\n",
    "school_shooting_df.info()"
   ]
  },
  {
   "cell_type": "markdown",
   "id": "163ace5d",
   "metadata": {},
   "source": [
    "Since there are so many value for State column and City columnm, we decided to put index for the encode purpose, just like when we do with the index column when we working the BMI data. "
   ]
  },
  {
   "cell_type": "code",
   "execution_count": 162,
   "id": "fbb2c5cb",
   "metadata": {},
   "outputs": [
    {
     "data": {
      "image/png": "[encoded data removed]",
      "text/plain": [
       "<Figure size 432x288 with 1 Axes>"
      ]
     },
     "metadata": {},
     "output_type": "display_data"
    }
   ],
   "source": [
    "#calculate the numbers of cases in each year\n",
    "total_case_by_yr = []\n",
    "year = []\n",
    "\n",
    "for n in range(1970, 2023):\n",
    "    year.append(n)\n",
    "    shoot_yr = school_shooting_df[school_shooting_df['Date'].dt.year == n]\n",
    "    num_total_in_yr = len(shoot_yr.index)\n",
    "    total_case_by_yr.append(num_total_in_yr)\n",
    "\n",
    "#plot the regression model\n",
    "total_case_scatter = sns.regplot(x = year, y = total_case_by_yr).set(title='Total K12 Shooting Case Regression Scatter Plot')"
   ]
  },
  {
   "cell_type": "code",
   "execution_count": 163,
   "id": "5d7d2731",
   "metadata": {},
   "outputs": [
    {
     "data": {
      "image/png": "[encoded data removed]",
      "text/plain": [
       "<Figure size 432x288 with 1 Axes>"
      ]
     },
     "metadata": {},
     "output_type": "display_data"
    }
   ],
   "source": [
    "#plot the bar chart for to see the tendency\n",
    "plt.bar(year, total_case_by_yr, color = 'royalblue')\n",
    "plt.yticks(rotation = 90)\n",
    "plt.xlabel(\"Year\")\n",
    "plt.ylabel(\"Total Shooting Case\")\n",
    "plt.title(\"Total Shooting Case by Year\")\n",
    "plt.show()"
   ]
  },
  {
   "cell_type": "code",
   "execution_count": 164,
   "id": "3e6dc16e",
   "metadata": {},
   "outputs": [
    {
     "data": {
      "text/plain": [
       "array([18, 27, 45, ...,  7,  7,  7])"
      ]
     },
     "execution_count": 164,
     "metadata": {},
     "output_type": "execute_result"
    }
   ],
   "source": [
    "#Change the vale of State to index\n",
    "le = preprocessing.LabelEncoder()\n",
    "le.fit(school_shooting_df['State'])\n",
    "list(le.classes_)\n",
    "le.transform(school_shooting_df['State'])"
   ]
  },
  {
   "cell_type": "code",
   "execution_count": 165,
   "id": "a33c3d45",
   "metadata": {},
   "outputs": [],
   "source": [
    "school_shooting_df['State'] = le.transform(school_shooting_df['State'])"
   ]
  },
  {
   "cell_type": "code",
   "execution_count": 166,
   "id": "b39b0fbd",
   "metadata": {},
   "outputs": [
    {
     "data": {
      "text/plain": [
       "array([  0, 326, 719, ..., 898, 898, 898])"
      ]
     },
     "execution_count": 166,
     "metadata": {},
     "output_type": "execute_result"
    }
   ],
   "source": [
    "#Change the vale of City to index\n",
    "lee = preprocessing.LabelEncoder()\n",
    "lee.fit(school_shooting_df['City'])\n",
    "list(lee.classes_)\n",
    "lee.transform(school_shooting_df['City'])"
   ]
  },
  {
   "cell_type": "code",
   "execution_count": 167,
   "id": "0eec1b3e",
   "metadata": {},
   "outputs": [],
   "source": [
    "school_shooting_df['City'] = lee.transform(school_shooting_df['City'])"
   ]
  },
  {
   "cell_type": "markdown",
   "id": "a9825233",
   "metadata": {},
   "source": [
    "If you want to get the State using number of index, you can use this function to find. For example, I am doing index 18"
   ]
  },
  {
   "cell_type": "code",
   "execution_count": 168,
   "id": "f2b9806f",
   "metadata": {},
   "outputs": [
    {
     "data": {
      "text/plain": [
       "array(['LA'], dtype=object)"
      ]
     },
     "execution_count": 168,
     "metadata": {},
     "output_type": "execute_result"
    }
   ],
   "source": [
    "le.inverse_transform([18])"
   ]
  },
  {
   "cell_type": "code",
   "execution_count": 169,
   "id": "359ee764",
   "metadata": {},
   "outputs": [],
   "source": [
    "shooting_df = pd.DataFrame()"
   ]
  },
  {
   "cell_type": "code",
   "execution_count": 170,
   "id": "0e6d4b0c",
   "metadata": {},
   "outputs": [
    {
     "data": {
      "text/html": [
       "<div>\n",
       "<style scoped>\n",
       "    .dataframe tbody tr th:only-of-type {\n",
       "        vertical-align: middle;\n",
       "    }\n",
       "\n",
       "    .dataframe tbody tr th {\n",
       "        vertical-align: top;\n",
       "    }\n",
       "\n",
       "    .dataframe thead th {\n",
       "        text-align: right;\n",
       "    }\n",
       "</style>\n",
       "<table border=\"1\" class=\"dataframe\">\n",
       "  <thead>\n",
       "    <tr style=\"text-align: right;\">\n",
       "      <th></th>\n",
       "      <th>Victims_Killed</th>\n",
       "      <th>Victims_Wounded</th>\n",
       "      <th>Number_Victims</th>\n",
       "      <th>Date</th>\n",
       "      <th>Shooter_Killed</th>\n",
       "      <th>City</th>\n",
       "      <th>State</th>\n",
       "      <th>School_Level_12-Jun</th>\n",
       "      <th>School_Level_Elementary</th>\n",
       "      <th>School_Level_High</th>\n",
       "      <th>School_Level_Junior High</th>\n",
       "      <th>School_Level_K-12</th>\n",
       "      <th>School_Level_K-8</th>\n",
       "      <th>School_Level_Middle</th>\n",
       "      <th>School_Level_Other</th>\n",
       "      <th>School_Level_Unknown</th>\n",
       "    </tr>\n",
       "  </thead>\n",
       "  <tbody>\n",
       "    <tr>\n",
       "      <th>0</th>\n",
       "      <td>0</td>\n",
       "      <td>0</td>\n",
       "      <td>0</td>\n",
       "      <td>2022-10-14</td>\n",
       "      <td>0</td>\n",
       "      <td>0</td>\n",
       "      <td>18</td>\n",
       "      <td>0</td>\n",
       "      <td>0</td>\n",
       "      <td>0</td>\n",
       "      <td>0</td>\n",
       "      <td>0</td>\n",
       "      <td>0</td>\n",
       "      <td>1</td>\n",
       "      <td>0</td>\n",
       "      <td>0</td>\n",
       "    </tr>\n",
       "    <tr>\n",
       "      <th>1</th>\n",
       "      <td>0</td>\n",
       "      <td>1</td>\n",
       "      <td>1</td>\n",
       "      <td>2022-10-14</td>\n",
       "      <td>0</td>\n",
       "      <td>326</td>\n",
       "      <td>27</td>\n",
       "      <td>0</td>\n",
       "      <td>0</td>\n",
       "      <td>1</td>\n",
       "      <td>0</td>\n",
       "      <td>0</td>\n",
       "      <td>0</td>\n",
       "      <td>0</td>\n",
       "      <td>0</td>\n",
       "      <td>0</td>\n",
       "    </tr>\n",
       "    <tr>\n",
       "      <th>2</th>\n",
       "      <td>1</td>\n",
       "      <td>1</td>\n",
       "      <td>2</td>\n",
       "      <td>2022-10-14</td>\n",
       "      <td>0</td>\n",
       "      <td>719</td>\n",
       "      <td>45</td>\n",
       "      <td>0</td>\n",
       "      <td>1</td>\n",
       "      <td>0</td>\n",
       "      <td>0</td>\n",
       "      <td>0</td>\n",
       "      <td>0</td>\n",
       "      <td>0</td>\n",
       "      <td>0</td>\n",
       "      <td>0</td>\n",
       "    </tr>\n",
       "    <tr>\n",
       "      <th>3</th>\n",
       "      <td>0</td>\n",
       "      <td>0</td>\n",
       "      <td>0</td>\n",
       "      <td>2022-10-14</td>\n",
       "      <td>1</td>\n",
       "      <td>91</td>\n",
       "      <td>18</td>\n",
       "      <td>0</td>\n",
       "      <td>0</td>\n",
       "      <td>1</td>\n",
       "      <td>0</td>\n",
       "      <td>0</td>\n",
       "      <td>0</td>\n",
       "      <td>0</td>\n",
       "      <td>0</td>\n",
       "      <td>0</td>\n",
       "    </tr>\n",
       "    <tr>\n",
       "      <th>4</th>\n",
       "      <td>0</td>\n",
       "      <td>0</td>\n",
       "      <td>0</td>\n",
       "      <td>2022-10-14</td>\n",
       "      <td>0</td>\n",
       "      <td>561</td>\n",
       "      <td>42</td>\n",
       "      <td>0</td>\n",
       "      <td>0</td>\n",
       "      <td>1</td>\n",
       "      <td>0</td>\n",
       "      <td>0</td>\n",
       "      <td>0</td>\n",
       "      <td>0</td>\n",
       "      <td>0</td>\n",
       "      <td>0</td>\n",
       "    </tr>\n",
       "  </tbody>\n",
       "</table>\n",
       "</div>"
      ],
      "text/plain": [
       "   Victims_Killed  Victims_Wounded  Number_Victims       Date  Shooter_Killed  \\\n",
       "0               0                0               0 2022-10-14               0   \n",
       "1               0                1               1 2022-10-14               0   \n",
       "2               1                1               2 2022-10-14               0   \n",
       "3               0                0               0 2022-10-14               1   \n",
       "4               0                0               0 2022-10-14               0   \n",
       "\n",
       "   City  State  School_Level_12-Jun  School_Level_Elementary  \\\n",
       "0     0     18                    0                        0   \n",
       "1   326     27                    0                        0   \n",
       "2   719     45                    0                        1   \n",
       "3    91     18                    0                        0   \n",
       "4   561     42                    0                        0   \n",
       "\n",
       "   School_Level_High  School_Level_Junior High  School_Level_K-12  \\\n",
       "0                  0                         0                  0   \n",
       "1                  1                         0                  0   \n",
       "2                  0                         0                  0   \n",
       "3                  1                         0                  0   \n",
       "4                  1                         0                  0   \n",
       "\n",
       "   School_Level_K-8  School_Level_Middle  School_Level_Other  \\\n",
       "0                 0                    1                   0   \n",
       "1                 0                    0                   0   \n",
       "2                 0                    0                   0   \n",
       "3                 0                    0                   0   \n",
       "4                 0                    0                   0   \n",
       "\n",
       "   School_Level_Unknown  \n",
       "0                     0  \n",
       "1                     0  \n",
       "2                     0  \n",
       "3                     0  \n",
       "4                     0  "
      ]
     },
     "execution_count": 170,
     "metadata": {},
     "output_type": "execute_result"
    }
   ],
   "source": [
    "#encode the categorical feature\n",
    "School_Level = school_shooting_df.School_Level\n",
    "pd.get_dummies(School_Level)\n",
    "\n",
    "school_shooting_df = pd.get_dummies(school_shooting_df, columns =['School_Level'])\n",
    "school_shooting_df.head()"
   ]
  },
  {
   "cell_type": "code",
   "execution_count": 171,
   "id": "e20cd8ff",
   "metadata": {},
   "outputs": [
    {
     "name": "stdout",
     "output_type": "stream",
     "text": [
      "Victims_Killed             -0.024987\n",
      "Victims_Wounded            -0.017790\n",
      "Number_Victims             -0.024549\n",
      "Shooter_Killed              0.024377\n",
      "City                       -0.024608\n",
      "State                       1.000000\n",
      "School_Level_12-Jun        -0.020854\n",
      "School_Level_Elementary     0.000973\n",
      "School_Level_High           0.001791\n",
      "School_Level_Junior High    0.012493\n",
      "School_Level_K-12          -0.008367\n",
      "School_Level_K-8            0.012351\n",
      "School_Level_Middle         0.005503\n",
      "School_Level_Other         -0.010352\n",
      "School_Level_Unknown       -0.049389\n",
      "Name: State, dtype: float64\n"
     ]
    }
   ],
   "source": [
    "# calculating the coefficient of the input and tip_amout\n",
    "corr_df = school_shooting_df.corr()\n",
    "print(corr_df['State'])"
   ]
  },
  {
   "cell_type": "code",
   "execution_count": 172,
   "id": "cefd22d7",
   "metadata": {},
   "outputs": [],
   "source": [
    "#partition the data\n",
    "X   = school_shooting_df[['City','Victims_Killed','Victims_Wounded','Shooter_Killed','School_Level_Unknown']] #get the input features\n",
    "y   = school_shooting_df['State']              #get the target\n",
    "\n",
    "X_train, X_test, y_train, y_test = train_test_split(X,              #the input features\n",
    "                                                    y,              #the label\n",
    "                                                    test_size=0.3,  #set aside 30% of the data as the test set\n",
    "                                                    random_state=7, #reproduce the results\n",
    "                                                                 #preserve the distribution of the labels\n",
    "                                                   )"
   ]
  },
  {
   "cell_type": "markdown",
   "id": "57631e11",
   "metadata": {},
   "source": [
    "Since our target will fall into. classifier type, in phase 3, we have decided to do RandomForestClassifier, DecisionTreeClassifier, and KNeighborsClassifier. "
   ]
  },
  {
   "cell_type": "markdown",
   "id": "de8b0f53",
   "metadata": {},
   "source": [
    "## RandomForestClassifier"
   ]
  },
  {
   "cell_type": "code",
   "execution_count": 173,
   "id": "59b8f096",
   "metadata": {},
   "outputs": [
    {
     "data": {
      "text/plain": [
       "RandomForestClassifier(criterion='entropy', n_estimators=200, random_state=7)"
      ]
     },
     "execution_count": 173,
     "metadata": {},
     "output_type": "execute_result"
    }
   ],
   "source": [
    "#build the classifier\n",
    "rf = RandomForestClassifier(criterion='entropy', n_estimators = 200, random_state = 7)\n",
    "rf.fit(X_train, y_train)"
   ]
  },
  {
   "cell_type": "code",
   "execution_count": 174,
   "id": "0d5bca0f",
   "metadata": {},
   "outputs": [],
   "source": [
    "#predict the labels for the test set\n",
    "y_pred   = rf.predict(X_test)\n",
    "#y_pred"
   ]
  },
  {
   "cell_type": "code",
   "execution_count": 175,
   "id": "99fac2f0",
   "metadata": {},
   "outputs": [
    {
     "name": "stdout",
     "output_type": "stream",
     "text": [
      "The accuracy of the model is: 0.41029641185647425\n"
     ]
    }
   ],
   "source": [
    "# Prediction accuracy\n",
    "print('The accuracy of the model is: {}'.format(rf.score(X_test, y_test)))"
   ]
  },
  {
   "cell_type": "code",
   "execution_count": 176,
   "id": "e9f9657a",
   "metadata": {},
   "outputs": [
    {
     "name": "stdout",
     "output_type": "stream",
     "text": [
      "The accuracy will be 0.41 when n_estimators equal to 20\n",
      "The accuracy will be 0.41 when n_estimators equal to 70\n",
      "The accuracy will be 0.41 when n_estimators equal to 120\n",
      "The accuracy will be 0.41 when n_estimators equal to 170\n",
      "The accuracy will be 0.41 when n_estimators equal to 220\n",
      "The accuracy will be 0.41 when n_estimators equal to 270\n"
     ]
    }
   ],
   "source": [
    "for n in range(20,300,50):\n",
    "    rf = RandomForestClassifier(criterion='entropy', n_estimators = n, random_state = 7)\n",
    "    rf.fit(X_train, y_train)\n",
    "    y_pred   = rf.predict(X_test)\n",
    "    \n",
    "    msee = rf.score(X_test, y_test)\n",
    "    print('The accuracy will be', round(msee,2), 'when n_estimators equal to', n )"
   ]
  },
  {
   "cell_type": "markdown",
   "id": "d3a25f97",
   "metadata": {},
   "source": [
    "After trying different number of n_estimators, we found that the highest accuracy we could get is 0.41."
   ]
  },
  {
   "cell_type": "markdown",
   "id": "92aafe38",
   "metadata": {},
   "source": [
    "## DecisionTreeClassifier"
   ]
  },
  {
   "cell_type": "code",
   "execution_count": 177,
   "id": "188fb3fe",
   "metadata": {},
   "outputs": [
    {
     "data": {
      "text/plain": [
       "DecisionTreeClassifier(criterion='entropy', random_state=120)"
      ]
     },
     "execution_count": 177,
     "metadata": {},
     "output_type": "execute_result"
    }
   ],
   "source": [
    "dt = DecisionTreeClassifier(criterion='entropy', random_state=120)\n",
    "dt.fit(X_train, y_train)"
   ]
  },
  {
   "cell_type": "code",
   "execution_count": 178,
   "id": "5eed172b",
   "metadata": {},
   "outputs": [
    {
     "name": "stdout",
     "output_type": "stream",
     "text": [
      "The predicted State is: [43 43 43  4 37 11 38 43  7 38  6 39 22  4 35  4 38 43 10  4 24 20  7 20\n",
      "  4  4 45 35 17 43  4 12 20 10 35 38  4 22 18 27 34  4  4 20 42  6 12  9\n",
      " 43  1 37 14 27  9 15 35 49 10 38  7 32 45 35 34  5 43  2 35 43 10 42 43\n",
      " 43  4 20  4  9 43  9 48 14 22 35  4  5  1  7 20 37 27 32 31  4 16 43  1\n",
      " 40 49 14 24  2 15 34 38 38 43  1 45  3  4  2 22  4  8 24 34 27 18 38  1\n",
      " 17 43 12 24 48 22  5 49 43 27 27  4 48  4 10 45 43 49 24 18  4  2 43 43\n",
      " 40 14 24 49 42 10 32  4 32 43  9 10  2 43 14 42 37  4 14 35  5  4 31 34\n",
      "  2 10 28 43 43 42 36  4 14  7 14 10 43 27 15 18  7 35 48 14 26 37 24 27\n",
      " 20  1  9 44 16 36 38  4 18 31 26  1 26 43  4 29  1 11 44 24 48 43 18  1\n",
      "  2 14 18 27 36 15 14 43 43 38  6 35 38 11 32 42 14 27 34 47 43 14 38  4\n",
      "  9 42 38 18 27  7 43 14 34 44  1 12  9 38 43 10  4 38  1 22  4 22 43 48\n",
      "  5 38 14 31  4  8 16 20 48 36 35 22 35 10  9  4  4 38  4 36 43 42  9  9\n",
      "  4 14 43 25 43 43 49  4 22 35 10 34 23 38 35  5 23 48  6 12  6 24 19 22\n",
      " 48 16 42 28 29 45  2 45  9 19 42 38 24  4  4 14 40  4  8 40 22 18  4 43\n",
      " 22 50 42  9  9  2 22  4 47 24  4 31 10 36 24 43 43  4 25  4 49 14 40 10\n",
      " 15 14  7 10  9 32  4 20 42 14 49 11 43 38 25 14 48  0 38 26 13 43 24  9\n",
      " 49 43  4  4  4 28  4  4  8  4  1 12  8 38 13 40 27  3  1 35 48 43 27  7\n",
      " 42 43 34  7 14 15 23 30 20 22 16 14 45 25  8  6 38  7 43 15 37 35  2  7\n",
      " 38 16 48  9 14 38  4  4 35 45 38 45 19 45 42  4 41 34 45 27 10 35 37 44\n",
      " 43 34 43 23  4  9 42 29 43 35 15 38  6 16  9 48 22 24 34 44 20 42 18 38\n",
      " 34 35  4 27  4 31 27 22 22 15 35 23 34  4 15  4 24 38  1 34 47 27 14 35\n",
      "  1 14 17 42 14 10 43 33 35 43 24 10 15 22 35 26 38  1 14 16  9 43 38 24\n",
      " 24 23 42  2 38  5  7 38 36 19 27 22 42 38 18 20 10 11  3 43  8  4 14 18\n",
      "  4 40  3  2  1  6 43  5 16 38  4 20 25 12  4 42  4 38  9  9 35 48 43  4\n",
      " 18  4 14  8  9  7 18 42  4 48  4 29 43 24  4 43 27 27 25 22 25 15 12 31\n",
      " 35  5  7 14 31  4 27 17  5 12 25 43  4 20 18 44  4 35  4 24 34  9 27 14\n",
      " 32 15 10 35 48  4 20 23  9 32 20 35 43  4 45  0 44]\n"
     ]
    }
   ],
   "source": [
    "#predict the labels for the test set\n",
    "y_pred   = dt.predict(X_test)\n",
    "\n",
    "print('The predicted State is: {}'.format(y_pred))"
   ]
  },
  {
   "cell_type": "code",
   "execution_count": 179,
   "id": "b4310d1b",
   "metadata": {},
   "outputs": [
    {
     "name": "stdout",
     "output_type": "stream",
     "text": [
      "The accuracy of the model is: 0.5663026521060842\n"
     ]
    }
   ],
   "source": [
    "# Prediction accuracy\n",
    "print('The accuracy of the model is: {}'.format(dt.score(X_test, y_test)))"
   ]
  },
  {
   "cell_type": "code",
   "execution_count": 180,
   "id": "4f517321",
   "metadata": {},
   "outputs": [
    {
     "name": "stdout",
     "output_type": "stream",
     "text": [
      "The accuracy will be 0.56 when n_estimators equal to 100\n",
      "The accuracy will be 0.57 when n_estimators equal to 120\n",
      "The accuracy will be 0.56 when n_estimators equal to 140\n",
      "The accuracy will be 0.57 when n_estimators equal to 160\n",
      "The accuracy will be 0.56 when n_estimators equal to 180\n"
     ]
    }
   ],
   "source": [
    "for n in range(100,200,20):\n",
    "    dt = DecisionTreeClassifier(criterion='entropy', random_state=n)\n",
    "    dt.fit(X_train, y_train)\n",
    "    y_pred   = dt.predict(X_test)\n",
    "    \n",
    "    msee = dt.score(X_test, y_test)\n",
    "    print('The accuracy will be', round(msee,2), 'when n_estimators equal to', n )"
   ]
  },
  {
   "cell_type": "markdown",
   "id": "25ce450f",
   "metadata": {},
   "source": [
    "After trying different number of random_state, we found that the highest accuracy we could get is 0.57."
   ]
  },
  {
   "cell_type": "markdown",
   "id": "60545217",
   "metadata": {},
   "source": [
    "## KNeighborsClassifier"
   ]
  },
  {
   "cell_type": "code",
   "execution_count": 181,
   "id": "becd965c",
   "metadata": {},
   "outputs": [
    {
     "name": "stdout",
     "output_type": "stream",
     "text": [
      "The y_pred of the model is: [43 43 15  4 19  4 38 43  7 38 37 44 22  4  4  4  6 43 10  4 24 20  7 20\n",
      "  4 27 45 35 17 43  4 35 20 10 35 38  4  1 24 27  4  4  4 20 42  7 35  4\n",
      "  4 18 37  3 27 38 15 35 49 10 27  7 32 45 35 45  2 43  3 14 43 10 42 43\n",
      " 16  4 20  4  9 43  9 48 14 22 27  4  5  1  7 20 36 27 32 34  4 16 43  1\n",
      "  7  9 14 24  9 15 34 38  2 43  1  4  3  4  2  4  4  8 24 48 27 18 38  1\n",
      "  4 37 45  4  4 22  5 10 43 27 27  4 48 45 10 34 43 10 24 18  4  2 43 43\n",
      " 40 14  1  9 42 10 43  4  4 43  9 10  2 43 20  4 37  4 14 35  1  4  4 27\n",
      "  3  4 10  9 35 42 36  4 14  7 14 40  4 15 15 18  7 35 43 14  1 37 24 27\n",
      " 20  1  2 14 24  4 38 10 15  9  1  1  1  4  4 29  4 43 44 24 40 43 18  1\n",
      "  3  4 18 17  4 40  1  0 43 38  6 35 24  4 43 42 14 19 34 15 42 14 38  4\n",
      "  9 42 38 18 10  7 43 14 34 44  1  5  9 38 43 10  4 38  1 18 27 22 14 48\n",
      " 44 38  4 45  4  8 24 22 48 31 35 22 35 38  1 18  4 38 27  4 43 42  9  9\n",
      "  4 14  2  5 43 43 49  4 22  4 10 34 23 14 35 40  4 48  6 12  6 24  1 22\n",
      " 33 16  4 10 29 45 18  2  9  9 42  1 10 10  4 14 40 45  8 35 22  8 27 43\n",
      " 22 18 42  4  9  2 22  4 20 24  4 34 10 36 22 43 43  4 25  4 38 14 48 10\n",
      " 15 14  7 40  9  4  4 20  1 14 49 31 43 38  5 14 48  0 38  0  6 43 24  9\n",
      " 27 43 42  4  4 10  9  1  1  4  1  3  1 38  4 14  9  3  1 35 48 43 27  7\n",
      " 42 18  3  7 14 15  4  4  4 22 27 14  3 14  6  6  5  7 43  4 37 35  2  7\n",
      " 18 10 48  4 14 38  4  4 35 45 38 45 45 45 10  4  6 14  4 35 10  4 37  9\n",
      " 43 34 43  6 27  4 42 29 43 35 45  1  2 24  9 29 22 24 34 44 20 14 18 45\n",
      " 34 35 16 27  2 31 27 22 22 12 35 23 34  4 48  4 24 38  1 34  1 27 14 35\n",
      " 35 14 10 42 14 10 43 33 35 43 24 10  4 22 14  1 38  1 14 16  9 43 38 24\n",
      " 14 23 42  2 14  5  7  2 36  9 27  5  9 14 18 20  4  9  3 43  8  4 14  9\n",
      "  4 40  3  1  1  6 43  2 16 38  4 20 14 12  4  1  4  3 27  9 35 33 43  4\n",
      "  9  4 14  1  3  7 18 10  4 20  4 40  1 24  4 43 20 27 14 10  3  4  8 45\n",
      " 35  5  7 14  9  4 27 17  1 12  5 43  4 20 18 43  4 35  4  4 25  9  9 14\n",
      " 32 15 10 14 48  4 16 23  9 32  4 35 43  4  3  0  9]\n",
      "The accuracy of the model is: 0.53198127925117\n"
     ]
    }
   ],
   "source": [
    "knc = KNeighborsClassifier(n_neighbors = 4) #initialize the classifier and set the number of neighbors\n",
    "knc.fit(X_train, y_train)\n",
    "\n",
    "#predict for the test set\n",
    "y_pred = knc.predict(X_test)\n",
    "print('The y_pred of the model is:', y_pred)\n",
    "\n",
    "#prediction accuracy\n",
    "print('The accuracy of the model is: {}'.format(knc.score(X_test, y_test)))"
   ]
  },
  {
   "cell_type": "code",
   "execution_count": 182,
   "id": "e6293c7a",
   "metadata": {},
   "outputs": [
    {
     "name": "stdout",
     "output_type": "stream",
     "text": [
      "{3: 0.5117, 5: 0.5148, 7: 0.4914, 9: 0.4649, 11: 0.4493, 13: 0.4337, 15: 0.429, 17: 0.415, 19: 0.4087, 21: 0.3963, 23: 0.3963, 25: 0.4009, 27: 0.3947, 29: 0.3931, 31: 0.3869, 33: 0.3713, 35: 0.3666, 37: 0.3463, 39: 0.3448, 41: 0.3479, 43: 0.3401, 45: 0.3339, 47: 0.3339, 49: 0.3276, 51: 0.3245, 53: 0.3245, 55: 0.3214, 57: 0.3214, 59: 0.3073}\n"
     ]
    }
   ],
   "source": [
    "#identify a suitable value of k\n",
    "predictions = {}\n",
    "\n",
    "for k in range(3, 60, 2): #increment k by 2\n",
    "    knn = KNeighborsClassifier(n_neighbors = k) #initialize the classifier and set the number of neighbors\n",
    "    knn.fit(X_train, y_train)\n",
    "    predictions[k] = knn.score(X_test, y_test).round(4)\n",
    "    \n",
    "# Prediction accuracy    \n",
    "print(predictions)"
   ]
  },
  {
   "cell_type": "code",
   "execution_count": 183,
   "id": "44633000",
   "metadata": {},
   "outputs": [
    {
     "data": {
      "image/png": "[encoded data removed]",
      "text/plain": [
       "<Figure size 432x288 with 1 Axes>"
      ]
     },
     "metadata": {},
     "output_type": "display_data"
    }
   ],
   "source": [
    "#plot the lineplot with k values\n",
    "sns.lineplot(x = predictions.keys(), y = predictions.values()).set(xlabel ='number of neighbors', ylabel = 'accuracy', title ='relationship between neighbors and accuracy')\n",
    "plt.show()\n"
   ]
  },
  {
   "cell_type": "markdown",
   "id": "c8896a4e",
   "metadata": {},
   "source": [
    "Based on the graph, we found that the highest accuracy we could get is 0.53."
   ]
  },
  {
   "cell_type": "code",
   "execution_count": null,
   "id": "1607c307",
   "metadata": {},
   "outputs": [],
   "source": []
  }
 ],
 "metadata": {
  "kernelspec": {
   "display_name": "Python 3 (ipykernel)",
   "language": "python",
   "name": "python3"
  },
  "language_info": {
   "codemirror_mode": {
    "name": "ipython",
    "version": 3
   },
   "file_extension": ".py",
   "mimetype": "text/x-python",
   "name": "python",
   "nbconvert_exporter": "python",
   "pygments_lexer": "ipython3",
   "version": "3.9.12"
  }
 },
 "nbformat": 4,
 "nbformat_minor": 5
}
